{
 "cells": [
  {
   "cell_type": "code",
   "execution_count": 1,
   "id": "4e578b0c-a7cf-429d-94e3-b0641970b2ca",
   "metadata": {
    "tags": []
   },
   "outputs": [
    {
     "name": "stdout",
     "output_type": "stream",
     "text": [
      "awkward: 2.6.3\n",
      "uproot: 5.3.11.dev3+g2a20562\n"
     ]
    },
    {
     "name": "stderr",
     "output_type": "stream",
     "text": [
      "/usr/local/lib/python3.10/site-packages/pandas/core/computation/expressions.py:21: UserWarning: Pandas requires version '2.8.4' or newer of 'numexpr' (version '2.7.3' currently installed).\n",
      "  from pandas.core.computation.check import NUMEXPR_INSTALLED\n"
     ]
    }
   ],
   "source": [
    "import traceback\n",
    "import awkward as ak\n",
    "import dask\n",
    "import uproot\n",
    "from dask.distributed import Client, performance_report\n",
    "import utils  # worker count tracking\n",
    "\n",
    "print(f\"awkward: {ak.__version__}\")\n",
    "print(f\"uproot: {uproot.__version__}\")\n",
    "\n",
    "# Use dask client:\n",
    "client = Client(\"tls://localhost:8786\")"
   ]
  },
  {
   "cell_type": "code",
   "execution_count": 2,
   "id": "05e87e21",
   "metadata": {},
   "outputs": [],
   "source": [
    "# Add ROOT files to work with:\n",
    "all_files = []\n",
    "all_files.append(\"root://eospublic.cern.ch//eos/root-eos/AGC/rntuple/nanoAOD/TT_TuneCUETP8M1_13TeV-amcatnlo-pythia8/cmsopendata2015_ttbar_19978_PU25nsData2015v1_76X_mcRun2_asymptotic_v12_ext1-v1_60000_0004.root\")\n"
   ]
  },
  {
   "cell_type": "code",
   "execution_count": 3,
   "id": "633689aa-419d-4c79-a0b8-b36dad9abd79",
   "metadata": {},
   "outputs": [],
   "source": [
    "# define work to be done\n",
    "def uproot_open_materialize(fname):\n",
    "    try:\n",
    "        with uproot.open(fname) as f:\n",
    "            events = f[\"Events\"]\n",
    "            # num_entries = events.num_entries # This fails in in dask tasks due to different uproot version used\n",
    "    except:\n",
    "        exception = traceback.format_exc()\n",
    "        print(exception)\n",
    "        raise\n",
    "    return {\"uproot_ver\": f\"{uproot.__version__}\"}"
   ]
  },
  {
   "cell_type": "code",
   "execution_count": 4,
   "id": "fed69b83-3cab-4bab-86fc-21ae75bf57d9",
   "metadata": {
    "tags": []
   },
   "outputs": [
    {
     "name": "stdout",
     "output_type": "stream",
     "text": [
      "Uproot version in non-dask tasks: 5.3.11.dev3+g2a20562\n"
     ]
    }
   ],
   "source": [
    "# Launch task with non-dask approach:\n",
    "output = [uproot_open_materialize(f) for f in all_files]\n",
    "print(f\"Uproot version in non-dask tasks: {output[0]['uproot_ver']}\")"
   ]
  },
  {
   "cell_type": "code",
   "execution_count": 5,
   "id": "35833a73-9c4e-4b74-8029-8b138b0f8c35",
   "metadata": {},
   "outputs": [
    {
     "name": "stdout",
     "output_type": "stream",
     "text": [
      "Uproot version in dask tasks:  5.3.2\n",
      "Finished notebook\n"
     ]
    }
   ],
   "source": [
    "# Launch task with dask approach:\n",
    "with performance_report(filename=\"dask-report-plain-uproot.html\"):\n",
    "    # futures = client.map(uproot_open_materialize, scattered_data)\n",
    "    # out = ak.Array([r for r in client.gather(iter(futures))])\n",
    "    tasks = [dask.delayed(uproot_open_materialize)(f) for f in all_files]\n",
    "    out = ak.Array(dask.compute(*tasks))\n",
    "    print(\"Uproot version in dask tasks: \", ak.to_list(out)[0][\"uproot_ver\"])\n",
    "\n",
    "print(\"Finished notebook\")"
   ]
  }
 ],
 "metadata": {
  "jupytext": {
   "notebook_metadata_filter": "all,-jupytext.text_representation.jupytext_version"
  },
  "kernelspec": {
   "display_name": "Python 3 (ipykernel)",
   "language": "python",
   "name": "python3"
  },
  "language_info": {
   "codemirror_mode": {
    "name": "ipython",
    "version": 3
   },
   "file_extension": ".py",
   "mimetype": "text/x-python",
   "name": "python",
   "nbconvert_exporter": "python",
   "pygments_lexer": "ipython3",
   "version": "3.10.12"
  }
 },
 "nbformat": 4,
 "nbformat_minor": 5
}
